{
 "cells": [
  {
   "cell_type": "markdown",
   "id": "73039769",
   "metadata": {},
   "source": [
    "程式碼取得網站:https://www.itread01.com/content/1546575863.html\n",
    "建立Node結構，有左右子節點及存freq的結構\n",
    "<!-- isLeft(self): -->\n",
    "最後進行編碼時，確認節點為左還是右節點"
   ]
  },
  {
   "cell_type": "code",
   "execution_count": 11,
   "id": "fe7fd58e",
   "metadata": {},
   "outputs": [],
   "source": [
    "#Tree-Node Type\n",
    "class Node:\n",
    "    def __init__(self,freq):\n",
    "        self.left = None\n",
    "        self.right = None\n",
    "        self.father = None\n",
    "        self.freq = freq\n",
    "    def isLeft(self):\n",
    "        return self.father.left == self"
   ]
  },
  {
   "cell_type": "markdown",
   "id": "09a51378",
   "metadata": {},
   "source": [
    "因為所有節點都是葉子節點，所以可以先將所有節點都創建出來，這個寫法可以將輸入進去的每個freq建立成上面的Node的樣子"
   ]
  },
  {
   "cell_type": "code",
   "execution_count": 12,
   "id": "afbe3a85",
   "metadata": {},
   "outputs": [],
   "source": [
    "#create nodes建立葉子節點\n",
    "def createNodes(freqs):\n",
    "    return [Node(freq) for freq in freqs]"
   ]
  },
  {
   "cell_type": "markdown",
   "id": "3b466c32",
   "metadata": {},
   "source": [
    "遞迴結構建立，由下而上建立樹。\n",
    "<!-- queue = nodes[:] -->\n",
    "建立Queue，內容為nodes陣列所有元素\n",
    "<!-- queue.sort(key=lambda item:item.freq) -->\n",
    "將所有的元素對他們的item[1]做排序，item[0]為字符，item[1]為出現頻率(freq)\n",
    "<!-- \n",
    "node_left = queue.pop(0)\n",
    "node_right = queue.pop(0)\n",
    "node_father = Node(node_left.freq + node_right.freq) \n",
    "-->\n",
    "將最小的兩個依序pop出Queue，左子樹較右子樹更小\n",
    "最後將左右子樹節點freq相加即為他們的father的值\n",
    "<!-- \n",
    "node_father.left = node_left\n",
    "node_father.right = node_right\n",
    "node_left.father = node_father\n",
    "node_right.father = node_father \n",
    "-->\n",
    "將father節點和左右子節點串聯\n",
    "<!-- queue.append(node_father) -->\n",
    "將father節點加入Queue\n",
    "<!-- queue[0].father = None -->\n",
    "最後的復節點為根結點，此時則無父節點"
   ]
  },
  {
   "cell_type": "code",
   "execution_count": 13,
   "id": "ed70a30f",
   "metadata": {},
   "outputs": [],
   "source": [
    "#create Huffman-Tree建立Huffman樹\n",
    "def createHuffmanTree(nodes):\n",
    "    queue = nodes[:]\n",
    "    while len(queue) > 1:\n",
    "        queue.sort(key=lambda item:item.freq)\n",
    "        node_left = queue.pop(0)\n",
    "        node_right = queue.pop(0)\n",
    "        node_father = Node(node_left.freq + node_right.freq)\n",
    "        node_father.left = node_left\n",
    "        node_father.right = node_right\n",
    "        node_left.father = node_father\n",
    "        node_right.father = node_father\n",
    "        queue.append(node_father)\n",
    "    queue[0].father = None\n",
    "    return queue[0]"
   ]
  },
  {
   "cell_type": "markdown",
   "id": "408f7581",
   "metadata": {},
   "source": [
    "將節點從下而上建立\n",
    "<!-- if node_tmp.isLeft():\n",
    "                codes[i] = '0' + codes[i]\n",
    "            else:\n",
    "                codes[i] = '1' + codes[i] -->\n",
    "只要是左節點則多一個編碼0，右的話則為1\n",
    "<!-- node_tmp = node_tmp.father -->\n",
    "透過這行程式碼，會層層往上，直到遇到node的父親是根結點則結束。"
   ]
  },
  {
   "cell_type": "code",
   "execution_count": 14,
   "id": "ce4c6b87",
   "metadata": {},
   "outputs": [],
   "source": [
    "#Huffman編碼\n",
    "def huffmanEncoding(nodes,root):\n",
    "    codes = [''] * len(nodes)\n",
    "    for i in range(len(nodes)):\n",
    "        node_tmp = nodes[i]\n",
    "        while node_tmp != root:\n",
    "            if node_tmp.isLeft():\n",
    "                codes[i] = '0' + codes[i]\n",
    "            else:\n",
    "                codes[i] = '1' + codes[i]\n",
    "            node_tmp = node_tmp.father\n",
    "    return codes\n"
   ]
  },
  {
   "cell_type": "code",
   "execution_count": 15,
   "id": "05bd3345",
   "metadata": {},
   "outputs": [
    {
     "name": "stdout",
     "output_type": "stream",
     "text": [
      "Character:C freq:2    encoding: 10100\n",
      "Character:G freq:2    encoding: 10101\n",
      "Character:E freq:3    encoding: 0000\n",
      "Character:K freq:3    encoding: 0001\n",
      "Character:B freq:4    encoding: 0100\n",
      "Character:F freq:4    encoding: 0101\n",
      "Character:I freq:4    encoding: 0110\n",
      "Character:J freq:4    encoding: 0111\n",
      "Character:D freq:5    encoding: 1011\n",
      "Character:H freq:6    encoding: 1110\n",
      "Character:N freq:6    encoding: 1111\n",
      "Character:L freq:7    encoding: 001\n",
      "Character:M freq:9    encoding: 100\n",
      "Character:A freq:10   encoding: 110\n"
     ]
    }
   ],
   "source": [
    "if __name__ == '__main__':\n",
    "    #chars = ['A','B','C','D','E','F','G','H','I','J','K','L','M','N']\n",
    "    #freqs = [10,4,2,5,3,4,2,6,4,4,3,7,9,6]\n",
    "    chars_freqs = [('C', 2), ('G', 2), ('E', 3), ('K', 3), ('B', 4),\n",
    "                   ('F', 4), ('I', 4), ('J', 4), ('D', 5), ('H', 6),\n",
    "                   ('N', 6), ('L', 7), ('M', 9), ('A', 10)]\n",
    "    nodes = createNodes([item[1] for item in chars_freqs])\n",
    "    root = createHuffmanTree(nodes)\n",
    "    codes = huffmanEncoding(nodes,root)\n",
    "    for item in zip(chars_freqs,codes):\n",
    "        print( 'Character:%s freq:%-2d   encoding: %s' % (item[0][0],item[0][1],item[1]))"
   ]
  }
 ],
 "metadata": {
  "kernelspec": {
   "display_name": "Python 3",
   "language": "python",
   "name": "python3"
  },
  "language_info": {
   "codemirror_mode": {
    "name": "ipython",
    "version": 3
   },
   "file_extension": ".py",
   "mimetype": "text/x-python",
   "name": "python",
   "nbconvert_exporter": "python",
   "pygments_lexer": "ipython3",
   "version": "3.6.13"
  }
 },
 "nbformat": 4,
 "nbformat_minor": 5
}
